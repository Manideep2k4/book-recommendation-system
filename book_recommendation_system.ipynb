{
  "nbformat": 4,
  "nbformat_minor": 0,
  "metadata": {
    "colab": {
      "provenance": [],
      "authorship_tag": "ABX9TyNHQhen3cIQRsNbpN4CnrXC",
      "include_colab_link": true
    },
    "kernelspec": {
      "name": "python3",
      "display_name": "Python 3"
    },
    "language_info": {
      "name": "python"
    }
  },
  "cells": [
    {
      "cell_type": "markdown",
      "metadata": {
        "id": "view-in-github",
        "colab_type": "text"
      },
      "source": [
        "<a href=\"https://colab.research.google.com/github/Manideep2k4/book-recommendation-system/blob/main/book_recommendation_system.ipynb\" target=\"_parent\"><img src=\"https://colab.research.google.com/assets/colab-badge.svg\" alt=\"Open In Colab\"/></a>"
      ]
    },
    {
      "cell_type": "code",
      "source": [
        "  !pip install pandas==1.5.0"
      ],
      "metadata": {
        "id": "sOvFURuxmCQm",
        "collapsed": true
      },
      "execution_count": null,
      "outputs": []
    },
    {
      "cell_type": "code",
      "source": [
        "import numpy as np\n",
        "import pandas as pd\n",
        "import seaborn as sns\n",
        "import matplotlib.pyplot as plt\n",
        "from sklearn.cluster import KMeans\n",
        "from sklearn import neighbors\n",
        "from sklearn.model_selection import train_test_split\n",
        "from sklearn.preprocessing import MinMaxScaler\n",
        "from sklearn.ensemble import RandomForestRegressor\n",
        "df = pd.read_csv('books.csv', error_bad_lines=False)\n",
        "df.head(1)"
      ],
      "metadata": {
        "colab": {
          "base_uri": "https://localhost:8080/",
          "height": 262
        },
        "id": "BED-Xr2Aptxx",
        "outputId": "8c560247-e53b-4a20-f757-54070cd02a3b"
      },
      "execution_count": 9,
      "outputs": [
        {
          "output_type": "stream",
          "name": "stderr",
          "text": [
            "<ipython-input-9-5bc9663cc121>:10: FutureWarning: The error_bad_lines argument has been deprecated and will be removed in a future version. Use on_bad_lines in the future.\n",
            "\n",
            "\n",
            "  df = pd.read_csv('books.csv', error_bad_lines=False)\n",
            "Skipping line 3350: expected 12 fields, saw 13\n",
            "Skipping line 4704: expected 12 fields, saw 13\n",
            "Skipping line 5879: expected 12 fields, saw 13\n",
            "Skipping line 8981: expected 12 fields, saw 13\n",
            "\n"
          ]
        },
        {
          "output_type": "execute_result",
          "data": {
            "text/plain": [
              "   bookID                                              title  \\\n",
              "0       1  Harry Potter and the Half-Blood Prince (Harry ...   \n",
              "\n",
              "                      authors  average_rating        isbn         isbn13  \\\n",
              "0  J.K. Rowling/Mary GrandPré            4.57  0439785960  9780439785969   \n",
              "\n",
              "  language_code    num_pages  ratings_count  text_reviews_count  \\\n",
              "0           eng          652        2095690               27591   \n",
              "\n",
              "  publication_date        publisher  \n",
              "0        9/16/2006  Scholastic Inc.  "
            ],
            "text/html": [
              "\n",
              "  <div id=\"df-579d9a24-b24c-4b07-995c-6b22fa56e347\" class=\"colab-df-container\">\n",
              "    <div>\n",
              "<style scoped>\n",
              "    .dataframe tbody tr th:only-of-type {\n",
              "        vertical-align: middle;\n",
              "    }\n",
              "\n",
              "    .dataframe tbody tr th {\n",
              "        vertical-align: top;\n",
              "    }\n",
              "\n",
              "    .dataframe thead th {\n",
              "        text-align: right;\n",
              "    }\n",
              "</style>\n",
              "<table border=\"1\" class=\"dataframe\">\n",
              "  <thead>\n",
              "    <tr style=\"text-align: right;\">\n",
              "      <th></th>\n",
              "      <th>bookID</th>\n",
              "      <th>title</th>\n",
              "      <th>authors</th>\n",
              "      <th>average_rating</th>\n",
              "      <th>isbn</th>\n",
              "      <th>isbn13</th>\n",
              "      <th>language_code</th>\n",
              "      <th>num_pages</th>\n",
              "      <th>ratings_count</th>\n",
              "      <th>text_reviews_count</th>\n",
              "      <th>publication_date</th>\n",
              "      <th>publisher</th>\n",
              "    </tr>\n",
              "  </thead>\n",
              "  <tbody>\n",
              "    <tr>\n",
              "      <th>0</th>\n",
              "      <td>1</td>\n",
              "      <td>Harry Potter and the Half-Blood Prince (Harry ...</td>\n",
              "      <td>J.K. Rowling/Mary GrandPré</td>\n",
              "      <td>4.57</td>\n",
              "      <td>0439785960</td>\n",
              "      <td>9780439785969</td>\n",
              "      <td>eng</td>\n",
              "      <td>652</td>\n",
              "      <td>2095690</td>\n",
              "      <td>27591</td>\n",
              "      <td>9/16/2006</td>\n",
              "      <td>Scholastic Inc.</td>\n",
              "    </tr>\n",
              "  </tbody>\n",
              "</table>\n",
              "</div>\n",
              "    <div class=\"colab-df-buttons\">\n",
              "\n",
              "  <div class=\"colab-df-container\">\n",
              "    <button class=\"colab-df-convert\" onclick=\"convertToInteractive('df-579d9a24-b24c-4b07-995c-6b22fa56e347')\"\n",
              "            title=\"Convert this dataframe to an interactive table.\"\n",
              "            style=\"display:none;\">\n",
              "\n",
              "  <svg xmlns=\"http://www.w3.org/2000/svg\" height=\"24px\" viewBox=\"0 -960 960 960\">\n",
              "    <path d=\"M120-120v-720h720v720H120Zm60-500h600v-160H180v160Zm220 220h160v-160H400v160Zm0 220h160v-160H400v160ZM180-400h160v-160H180v160Zm440 0h160v-160H620v160ZM180-180h160v-160H180v160Zm440 0h160v-160H620v160Z\"/>\n",
              "  </svg>\n",
              "    </button>\n",
              "\n",
              "  <style>\n",
              "    .colab-df-container {\n",
              "      display:flex;\n",
              "      gap: 12px;\n",
              "    }\n",
              "\n",
              "    .colab-df-convert {\n",
              "      background-color: #E8F0FE;\n",
              "      border: none;\n",
              "      border-radius: 50%;\n",
              "      cursor: pointer;\n",
              "      display: none;\n",
              "      fill: #1967D2;\n",
              "      height: 32px;\n",
              "      padding: 0 0 0 0;\n",
              "      width: 32px;\n",
              "    }\n",
              "\n",
              "    .colab-df-convert:hover {\n",
              "      background-color: #E2EBFA;\n",
              "      box-shadow: 0px 1px 2px rgba(60, 64, 67, 0.3), 0px 1px 3px 1px rgba(60, 64, 67, 0.15);\n",
              "      fill: #174EA6;\n",
              "    }\n",
              "\n",
              "    .colab-df-buttons div {\n",
              "      margin-bottom: 4px;\n",
              "    }\n",
              "\n",
              "    [theme=dark] .colab-df-convert {\n",
              "      background-color: #3B4455;\n",
              "      fill: #D2E3FC;\n",
              "    }\n",
              "\n",
              "    [theme=dark] .colab-df-convert:hover {\n",
              "      background-color: #434B5C;\n",
              "      box-shadow: 0px 1px 3px 1px rgba(0, 0, 0, 0.15);\n",
              "      filter: drop-shadow(0px 1px 2px rgba(0, 0, 0, 0.3));\n",
              "      fill: #FFFFFF;\n",
              "    }\n",
              "  </style>\n",
              "\n",
              "    <script>\n",
              "      const buttonEl =\n",
              "        document.querySelector('#df-579d9a24-b24c-4b07-995c-6b22fa56e347 button.colab-df-convert');\n",
              "      buttonEl.style.display =\n",
              "        google.colab.kernel.accessAllowed ? 'block' : 'none';\n",
              "\n",
              "      async function convertToInteractive(key) {\n",
              "        const element = document.querySelector('#df-579d9a24-b24c-4b07-995c-6b22fa56e347');\n",
              "        const dataTable =\n",
              "          await google.colab.kernel.invokeFunction('convertToInteractive',\n",
              "                                                    [key], {});\n",
              "        if (!dataTable) return;\n",
              "\n",
              "        const docLinkHtml = 'Like what you see? Visit the ' +\n",
              "          '<a target=\"_blank\" href=https://colab.research.google.com/notebooks/data_table.ipynb>data table notebook</a>'\n",
              "          + ' to learn more about interactive tables.';\n",
              "        element.innerHTML = '';\n",
              "        dataTable['output_type'] = 'display_data';\n",
              "        await google.colab.output.renderOutput(dataTable, element);\n",
              "        const docLink = document.createElement('div');\n",
              "        docLink.innerHTML = docLinkHtml;\n",
              "        element.appendChild(docLink);\n",
              "      }\n",
              "    </script>\n",
              "  </div>\n",
              "\n",
              "\n",
              "    </div>\n",
              "  </div>\n"
            ],
            "application/vnd.google.colaboratory.intrinsic+json": {
              "type": "dataframe",
              "variable_name": "df",
              "summary": "{\n  \"name\": \"df\",\n  \"rows\": 11123,\n  \"fields\": [\n    {\n      \"column\": \"bookID\",\n      \"properties\": {\n        \"dtype\": \"number\",\n        \"std\": 13094,\n        \"min\": 1,\n        \"max\": 45641,\n        \"num_unique_values\": 11123,\n        \"samples\": [\n          33439,\n          1537,\n          32330\n        ],\n        \"semantic_type\": \"\",\n        \"description\": \"\"\n      }\n    },\n    {\n      \"column\": \"title\",\n      \"properties\": {\n        \"dtype\": \"string\",\n        \"num_unique_values\": 10348,\n        \"samples\": [\n          \"Street of the Five Moons (Vicky Bliss  #2)\",\n          \"The Gunslinger (The Dark Tower #1)\",\n          \"The Totem\"\n        ],\n        \"semantic_type\": \"\",\n        \"description\": \"\"\n      }\n    },\n    {\n      \"column\": \"authors\",\n      \"properties\": {\n        \"dtype\": \"string\",\n        \"num_unique_values\": 6639,\n        \"samples\": [\n          \"Jamie Oliver/Marion Deuchars/David Loftus/Chris Terry\",\n          \"John Patrick Diggins/Arthur M. Schlesinger Jr.\",\n          \"George Gamow/Roger Penrose\"\n        ],\n        \"semantic_type\": \"\",\n        \"description\": \"\"\n      }\n    },\n    {\n      \"column\": \"average_rating\",\n      \"properties\": {\n        \"dtype\": \"number\",\n        \"std\": 0.3504853116512759,\n        \"min\": 0.0,\n        \"max\": 5.0,\n        \"num_unique_values\": 209,\n        \"samples\": [\n          4.06,\n          3.18,\n          3.96\n        ],\n        \"semantic_type\": \"\",\n        \"description\": \"\"\n      }\n    },\n    {\n      \"column\": \"isbn\",\n      \"properties\": {\n        \"dtype\": \"string\",\n        \"num_unique_values\": 11123,\n        \"samples\": [\n          \"1575667215\",\n          \"0452011671\",\n          \"0345492781\"\n        ],\n        \"semantic_type\": \"\",\n        \"description\": \"\"\n      }\n    },\n    {\n      \"column\": \"isbn13\",\n      \"properties\": {\n        \"dtype\": \"number\",\n        \"std\": 442975846058,\n        \"min\": 8987059752,\n        \"max\": 9790007672386,\n        \"num_unique_values\": 11123,\n        \"samples\": [\n          9781575667218,\n          9780452011670,\n          9780345492784\n        ],\n        \"semantic_type\": \"\",\n        \"description\": \"\"\n      }\n    },\n    {\n      \"column\": \"language_code\",\n      \"properties\": {\n        \"dtype\": \"category\",\n        \"num_unique_values\": 27,\n        \"samples\": [\n          \"en-CA\",\n          \"zho\",\n          \"ger\"\n        ],\n        \"semantic_type\": \"\",\n        \"description\": \"\"\n      }\n    },\n    {\n      \"column\": \"  num_pages\",\n      \"properties\": {\n        \"dtype\": \"number\",\n        \"std\": 241,\n        \"min\": 0,\n        \"max\": 6576,\n        \"num_unique_values\": 997,\n        \"samples\": [\n          268,\n          795,\n          4\n        ],\n        \"semantic_type\": \"\",\n        \"description\": \"\"\n      }\n    },\n    {\n      \"column\": \"ratings_count\",\n      \"properties\": {\n        \"dtype\": \"number\",\n        \"std\": 112499,\n        \"min\": 0,\n        \"max\": 4597666,\n        \"num_unique_values\": 5294,\n        \"samples\": [\n          2883,\n          40629,\n          3760\n        ],\n        \"semantic_type\": \"\",\n        \"description\": \"\"\n      }\n    },\n    {\n      \"column\": \"text_reviews_count\",\n      \"properties\": {\n        \"dtype\": \"number\",\n        \"std\": 2576,\n        \"min\": 0,\n        \"max\": 94265,\n        \"num_unique_values\": 1822,\n        \"samples\": [\n          1607,\n          17547,\n          99\n        ],\n        \"semantic_type\": \"\",\n        \"description\": \"\"\n      }\n    },\n    {\n      \"column\": \"publication_date\",\n      \"properties\": {\n        \"dtype\": \"category\",\n        \"num_unique_values\": 3679,\n        \"samples\": [\n          \"8/30/1999\",\n          \"9/6/1997\",\n          \"4/24/1998\"\n        ],\n        \"semantic_type\": \"\",\n        \"description\": \"\"\n      }\n    },\n    {\n      \"column\": \"publisher\",\n      \"properties\": {\n        \"dtype\": \"category\",\n        \"num_unique_values\": 2290,\n        \"samples\": [\n          \"Possibilities\",\n          \"Soft Skull Press\",\n          \"Pocket Books: Gallery Books\"\n        ],\n        \"semantic_type\": \"\",\n        \"description\": \"\"\n      }\n    }\n  ]\n}"
            }
          },
          "metadata": {},
          "execution_count": 9
        }
      ]
    },
    {
      "cell_type": "code",
      "source": [
        "from sklearn.metrics import mean_absolute_error"
      ],
      "metadata": {
        "id": "m_Dmml9S9OZt"
      },
      "execution_count": 10,
      "outputs": []
    },
    {
      "cell_type": "code",
      "source": [
        "df.isnull().sum()\n",
        "df.describe()"
      ],
      "metadata": {
        "colab": {
          "base_uri": "https://localhost:8080/",
          "height": 300
        },
        "id": "CZoq-bVRqhI3",
        "outputId": "daf40f63-91fc-49af-b1ea-d632d39deee5"
      },
      "execution_count": 11,
      "outputs": [
        {
          "output_type": "execute_result",
          "data": {
            "text/plain": [
              "             bookID  average_rating        isbn13     num_pages  \\\n",
              "count  11123.000000    11123.000000  1.112300e+04  11123.000000   \n",
              "mean   21310.856963        3.934075  9.759880e+12    336.405556   \n",
              "std    13094.727252        0.350485  4.429758e+11    241.152626   \n",
              "min        1.000000        0.000000  8.987060e+09      0.000000   \n",
              "25%    10277.500000        3.770000  9.780345e+12    192.000000   \n",
              "50%    20287.000000        3.960000  9.780582e+12    299.000000   \n",
              "75%    32104.500000        4.140000  9.780872e+12    416.000000   \n",
              "max    45641.000000        5.000000  9.790008e+12   6576.000000   \n",
              "\n",
              "       ratings_count  text_reviews_count  \n",
              "count   1.112300e+04        11123.000000  \n",
              "mean    1.794285e+04          542.048099  \n",
              "std     1.124992e+05         2576.619589  \n",
              "min     0.000000e+00            0.000000  \n",
              "25%     1.040000e+02            9.000000  \n",
              "50%     7.450000e+02           47.000000  \n",
              "75%     5.000500e+03          238.000000  \n",
              "max     4.597666e+06        94265.000000  "
            ],
            "text/html": [
              "\n",
              "  <div id=\"df-dd4afb01-c934-4bb0-a91d-35b87078a2da\" class=\"colab-df-container\">\n",
              "    <div>\n",
              "<style scoped>\n",
              "    .dataframe tbody tr th:only-of-type {\n",
              "        vertical-align: middle;\n",
              "    }\n",
              "\n",
              "    .dataframe tbody tr th {\n",
              "        vertical-align: top;\n",
              "    }\n",
              "\n",
              "    .dataframe thead th {\n",
              "        text-align: right;\n",
              "    }\n",
              "</style>\n",
              "<table border=\"1\" class=\"dataframe\">\n",
              "  <thead>\n",
              "    <tr style=\"text-align: right;\">\n",
              "      <th></th>\n",
              "      <th>bookID</th>\n",
              "      <th>average_rating</th>\n",
              "      <th>isbn13</th>\n",
              "      <th>num_pages</th>\n",
              "      <th>ratings_count</th>\n",
              "      <th>text_reviews_count</th>\n",
              "    </tr>\n",
              "  </thead>\n",
              "  <tbody>\n",
              "    <tr>\n",
              "      <th>count</th>\n",
              "      <td>11123.000000</td>\n",
              "      <td>11123.000000</td>\n",
              "      <td>1.112300e+04</td>\n",
              "      <td>11123.000000</td>\n",
              "      <td>1.112300e+04</td>\n",
              "      <td>11123.000000</td>\n",
              "    </tr>\n",
              "    <tr>\n",
              "      <th>mean</th>\n",
              "      <td>21310.856963</td>\n",
              "      <td>3.934075</td>\n",
              "      <td>9.759880e+12</td>\n",
              "      <td>336.405556</td>\n",
              "      <td>1.794285e+04</td>\n",
              "      <td>542.048099</td>\n",
              "    </tr>\n",
              "    <tr>\n",
              "      <th>std</th>\n",
              "      <td>13094.727252</td>\n",
              "      <td>0.350485</td>\n",
              "      <td>4.429758e+11</td>\n",
              "      <td>241.152626</td>\n",
              "      <td>1.124992e+05</td>\n",
              "      <td>2576.619589</td>\n",
              "    </tr>\n",
              "    <tr>\n",
              "      <th>min</th>\n",
              "      <td>1.000000</td>\n",
              "      <td>0.000000</td>\n",
              "      <td>8.987060e+09</td>\n",
              "      <td>0.000000</td>\n",
              "      <td>0.000000e+00</td>\n",
              "      <td>0.000000</td>\n",
              "    </tr>\n",
              "    <tr>\n",
              "      <th>25%</th>\n",
              "      <td>10277.500000</td>\n",
              "      <td>3.770000</td>\n",
              "      <td>9.780345e+12</td>\n",
              "      <td>192.000000</td>\n",
              "      <td>1.040000e+02</td>\n",
              "      <td>9.000000</td>\n",
              "    </tr>\n",
              "    <tr>\n",
              "      <th>50%</th>\n",
              "      <td>20287.000000</td>\n",
              "      <td>3.960000</td>\n",
              "      <td>9.780582e+12</td>\n",
              "      <td>299.000000</td>\n",
              "      <td>7.450000e+02</td>\n",
              "      <td>47.000000</td>\n",
              "    </tr>\n",
              "    <tr>\n",
              "      <th>75%</th>\n",
              "      <td>32104.500000</td>\n",
              "      <td>4.140000</td>\n",
              "      <td>9.780872e+12</td>\n",
              "      <td>416.000000</td>\n",
              "      <td>5.000500e+03</td>\n",
              "      <td>238.000000</td>\n",
              "    </tr>\n",
              "    <tr>\n",
              "      <th>max</th>\n",
              "      <td>45641.000000</td>\n",
              "      <td>5.000000</td>\n",
              "      <td>9.790008e+12</td>\n",
              "      <td>6576.000000</td>\n",
              "      <td>4.597666e+06</td>\n",
              "      <td>94265.000000</td>\n",
              "    </tr>\n",
              "  </tbody>\n",
              "</table>\n",
              "</div>\n",
              "    <div class=\"colab-df-buttons\">\n",
              "\n",
              "  <div class=\"colab-df-container\">\n",
              "    <button class=\"colab-df-convert\" onclick=\"convertToInteractive('df-dd4afb01-c934-4bb0-a91d-35b87078a2da')\"\n",
              "            title=\"Convert this dataframe to an interactive table.\"\n",
              "            style=\"display:none;\">\n",
              "\n",
              "  <svg xmlns=\"http://www.w3.org/2000/svg\" height=\"24px\" viewBox=\"0 -960 960 960\">\n",
              "    <path d=\"M120-120v-720h720v720H120Zm60-500h600v-160H180v160Zm220 220h160v-160H400v160Zm0 220h160v-160H400v160ZM180-400h160v-160H180v160Zm440 0h160v-160H620v160ZM180-180h160v-160H180v160Zm440 0h160v-160H620v160Z\"/>\n",
              "  </svg>\n",
              "    </button>\n",
              "\n",
              "  <style>\n",
              "    .colab-df-container {\n",
              "      display:flex;\n",
              "      gap: 12px;\n",
              "    }\n",
              "\n",
              "    .colab-df-convert {\n",
              "      background-color: #E8F0FE;\n",
              "      border: none;\n",
              "      border-radius: 50%;\n",
              "      cursor: pointer;\n",
              "      display: none;\n",
              "      fill: #1967D2;\n",
              "      height: 32px;\n",
              "      padding: 0 0 0 0;\n",
              "      width: 32px;\n",
              "    }\n",
              "\n",
              "    .colab-df-convert:hover {\n",
              "      background-color: #E2EBFA;\n",
              "      box-shadow: 0px 1px 2px rgba(60, 64, 67, 0.3), 0px 1px 3px 1px rgba(60, 64, 67, 0.15);\n",
              "      fill: #174EA6;\n",
              "    }\n",
              "\n",
              "    .colab-df-buttons div {\n",
              "      margin-bottom: 4px;\n",
              "    }\n",
              "\n",
              "    [theme=dark] .colab-df-convert {\n",
              "      background-color: #3B4455;\n",
              "      fill: #D2E3FC;\n",
              "    }\n",
              "\n",
              "    [theme=dark] .colab-df-convert:hover {\n",
              "      background-color: #434B5C;\n",
              "      box-shadow: 0px 1px 3px 1px rgba(0, 0, 0, 0.15);\n",
              "      filter: drop-shadow(0px 1px 2px rgba(0, 0, 0, 0.3));\n",
              "      fill: #FFFFFF;\n",
              "    }\n",
              "  </style>\n",
              "\n",
              "    <script>\n",
              "      const buttonEl =\n",
              "        document.querySelector('#df-dd4afb01-c934-4bb0-a91d-35b87078a2da button.colab-df-convert');\n",
              "      buttonEl.style.display =\n",
              "        google.colab.kernel.accessAllowed ? 'block' : 'none';\n",
              "\n",
              "      async function convertToInteractive(key) {\n",
              "        const element = document.querySelector('#df-dd4afb01-c934-4bb0-a91d-35b87078a2da');\n",
              "        const dataTable =\n",
              "          await google.colab.kernel.invokeFunction('convertToInteractive',\n",
              "                                                    [key], {});\n",
              "        if (!dataTable) return;\n",
              "\n",
              "        const docLinkHtml = 'Like what you see? Visit the ' +\n",
              "          '<a target=\"_blank\" href=https://colab.research.google.com/notebooks/data_table.ipynb>data table notebook</a>'\n",
              "          + ' to learn more about interactive tables.';\n",
              "        element.innerHTML = '';\n",
              "        dataTable['output_type'] = 'display_data';\n",
              "        await google.colab.output.renderOutput(dataTable, element);\n",
              "        const docLink = document.createElement('div');\n",
              "        docLink.innerHTML = docLinkHtml;\n",
              "        element.appendChild(docLink);\n",
              "      }\n",
              "    </script>\n",
              "  </div>\n",
              "\n",
              "\n",
              "<div id=\"df-e5bc11ae-5ff6-4ed8-be5b-2770e8d49d42\">\n",
              "  <button class=\"colab-df-quickchart\" onclick=\"quickchart('df-e5bc11ae-5ff6-4ed8-be5b-2770e8d49d42')\"\n",
              "            title=\"Suggest charts\"\n",
              "            style=\"display:none;\">\n",
              "\n",
              "<svg xmlns=\"http://www.w3.org/2000/svg\" height=\"24px\"viewBox=\"0 0 24 24\"\n",
              "     width=\"24px\">\n",
              "    <g>\n",
              "        <path d=\"M19 3H5c-1.1 0-2 .9-2 2v14c0 1.1.9 2 2 2h14c1.1 0 2-.9 2-2V5c0-1.1-.9-2-2-2zM9 17H7v-7h2v7zm4 0h-2V7h2v10zm4 0h-2v-4h2v4z\"/>\n",
              "    </g>\n",
              "</svg>\n",
              "  </button>\n",
              "\n",
              "<style>\n",
              "  .colab-df-quickchart {\n",
              "      --bg-color: #E8F0FE;\n",
              "      --fill-color: #1967D2;\n",
              "      --hover-bg-color: #E2EBFA;\n",
              "      --hover-fill-color: #174EA6;\n",
              "      --disabled-fill-color: #AAA;\n",
              "      --disabled-bg-color: #DDD;\n",
              "  }\n",
              "\n",
              "  [theme=dark] .colab-df-quickchart {\n",
              "      --bg-color: #3B4455;\n",
              "      --fill-color: #D2E3FC;\n",
              "      --hover-bg-color: #434B5C;\n",
              "      --hover-fill-color: #FFFFFF;\n",
              "      --disabled-bg-color: #3B4455;\n",
              "      --disabled-fill-color: #666;\n",
              "  }\n",
              "\n",
              "  .colab-df-quickchart {\n",
              "    background-color: var(--bg-color);\n",
              "    border: none;\n",
              "    border-radius: 50%;\n",
              "    cursor: pointer;\n",
              "    display: none;\n",
              "    fill: var(--fill-color);\n",
              "    height: 32px;\n",
              "    padding: 0;\n",
              "    width: 32px;\n",
              "  }\n",
              "\n",
              "  .colab-df-quickchart:hover {\n",
              "    background-color: var(--hover-bg-color);\n",
              "    box-shadow: 0 1px 2px rgba(60, 64, 67, 0.3), 0 1px 3px 1px rgba(60, 64, 67, 0.15);\n",
              "    fill: var(--button-hover-fill-color);\n",
              "  }\n",
              "\n",
              "  .colab-df-quickchart-complete:disabled,\n",
              "  .colab-df-quickchart-complete:disabled:hover {\n",
              "    background-color: var(--disabled-bg-color);\n",
              "    fill: var(--disabled-fill-color);\n",
              "    box-shadow: none;\n",
              "  }\n",
              "\n",
              "  .colab-df-spinner {\n",
              "    border: 2px solid var(--fill-color);\n",
              "    border-color: transparent;\n",
              "    border-bottom-color: var(--fill-color);\n",
              "    animation:\n",
              "      spin 1s steps(1) infinite;\n",
              "  }\n",
              "\n",
              "  @keyframes spin {\n",
              "    0% {\n",
              "      border-color: transparent;\n",
              "      border-bottom-color: var(--fill-color);\n",
              "      border-left-color: var(--fill-color);\n",
              "    }\n",
              "    20% {\n",
              "      border-color: transparent;\n",
              "      border-left-color: var(--fill-color);\n",
              "      border-top-color: var(--fill-color);\n",
              "    }\n",
              "    30% {\n",
              "      border-color: transparent;\n",
              "      border-left-color: var(--fill-color);\n",
              "      border-top-color: var(--fill-color);\n",
              "      border-right-color: var(--fill-color);\n",
              "    }\n",
              "    40% {\n",
              "      border-color: transparent;\n",
              "      border-right-color: var(--fill-color);\n",
              "      border-top-color: var(--fill-color);\n",
              "    }\n",
              "    60% {\n",
              "      border-color: transparent;\n",
              "      border-right-color: var(--fill-color);\n",
              "    }\n",
              "    80% {\n",
              "      border-color: transparent;\n",
              "      border-right-color: var(--fill-color);\n",
              "      border-bottom-color: var(--fill-color);\n",
              "    }\n",
              "    90% {\n",
              "      border-color: transparent;\n",
              "      border-bottom-color: var(--fill-color);\n",
              "    }\n",
              "  }\n",
              "</style>\n",
              "\n",
              "  <script>\n",
              "    async function quickchart(key) {\n",
              "      const quickchartButtonEl =\n",
              "        document.querySelector('#' + key + ' button');\n",
              "      quickchartButtonEl.disabled = true;  // To prevent multiple clicks.\n",
              "      quickchartButtonEl.classList.add('colab-df-spinner');\n",
              "      try {\n",
              "        const charts = await google.colab.kernel.invokeFunction(\n",
              "            'suggestCharts', [key], {});\n",
              "      } catch (error) {\n",
              "        console.error('Error during call to suggestCharts:', error);\n",
              "      }\n",
              "      quickchartButtonEl.classList.remove('colab-df-spinner');\n",
              "      quickchartButtonEl.classList.add('colab-df-quickchart-complete');\n",
              "    }\n",
              "    (() => {\n",
              "      let quickchartButtonEl =\n",
              "        document.querySelector('#df-e5bc11ae-5ff6-4ed8-be5b-2770e8d49d42 button');\n",
              "      quickchartButtonEl.style.display =\n",
              "        google.colab.kernel.accessAllowed ? 'block' : 'none';\n",
              "    })();\n",
              "  </script>\n",
              "</div>\n",
              "\n",
              "    </div>\n",
              "  </div>\n"
            ],
            "application/vnd.google.colaboratory.intrinsic+json": {
              "type": "dataframe",
              "summary": "{\n  \"name\": \"df\",\n  \"rows\": 8,\n  \"fields\": [\n    {\n      \"column\": \"bookID\",\n      \"properties\": {\n        \"dtype\": \"number\",\n        \"std\": 14252.85737701736,\n        \"min\": 1.0,\n        \"max\": 45641.0,\n        \"num_unique_values\": 8,\n        \"samples\": [\n          21310.856963049537,\n          20287.0,\n          11123.0\n        ],\n        \"semantic_type\": \"\",\n        \"description\": \"\"\n      }\n    },\n    {\n      \"column\": \"average_rating\",\n      \"properties\": {\n        \"dtype\": \"number\",\n        \"std\": 3931.5063275494367,\n        \"min\": 0.0,\n        \"max\": 11123.0,\n        \"num_unique_values\": 8,\n        \"samples\": [\n          3.9340753393868564,\n          3.96,\n          11123.0\n        ],\n        \"semantic_type\": \"\",\n        \"description\": \"\"\n      }\n    },\n    {\n      \"column\": \"isbn13\",\n      \"properties\": {\n        \"dtype\": \"number\",\n        \"std\": 4984644225903.03,\n        \"min\": 11123.0,\n        \"max\": 9790007672386.0,\n        \"num_unique_values\": 8,\n        \"samples\": [\n          9759880247639.154,\n          9780582461536.0,\n          11123.0\n        ],\n        \"semantic_type\": \"\",\n        \"description\": \"\"\n      }\n    },\n    {\n      \"column\": \"  num_pages\",\n      \"properties\": {\n        \"dtype\": \"number\",\n        \"std\": 4165.066218299191,\n        \"min\": 0.0,\n        \"max\": 11123.0,\n        \"num_unique_values\": 8,\n        \"samples\": [\n          336.4055560550211,\n          299.0,\n          11123.0\n        ],\n        \"semantic_type\": \"\",\n        \"description\": \"\"\n      }\n    },\n    {\n      \"column\": \"ratings_count\",\n      \"properties\": {\n        \"dtype\": \"number\",\n        \"std\": 1618517.2369487006,\n        \"min\": 0.0,\n        \"max\": 4597666.0,\n        \"num_unique_values\": 8,\n        \"samples\": [\n          17942.848062573048,\n          745.0,\n          11123.0\n        ],\n        \"semantic_type\": \"\",\n        \"description\": \"\"\n      }\n    },\n    {\n      \"column\": \"text_reviews_count\",\n      \"properties\": {\n        \"dtype\": \"number\",\n        \"std\": 32813.11782870056,\n        \"min\": 0.0,\n        \"max\": 94265.0,\n        \"num_unique_values\": 8,\n        \"samples\": [\n          542.048098534568,\n          47.0,\n          11123.0\n        ],\n        \"semantic_type\": \"\",\n        \"description\": \"\"\n      }\n    }\n  ]\n}"
            }
          },
          "metadata": {},
          "execution_count": 11
        }
      ]
    },
    {
      "cell_type": "markdown",
      "source": [
        "top 10 averaging rating book"
      ],
      "metadata": {
        "id": "HKAntoGuvCKz"
      }
    },
    {
      "cell_type": "code",
      "source": [
        "top_ten = df[df['ratings_count'] > 1000000]\n",
        "top_ten.sort_values(by='average_rating', ascending=False)\n",
        "plt.style.use('seaborn-darkgrid')\n",
        "plt.figure(figsize=(10, 10))\n",
        "data = top_ten.sort_values(by='average_rating', ascending=False).head(10)\n",
        "sns.barplot(x=\"average_rating\", y=\"title\", data=data, palette='inferno')"
      ],
      "metadata": {
        "id": "h9nQ1hNyrduy"
      },
      "execution_count": null,
      "outputs": []
    },
    {
      "cell_type": "markdown",
      "source": [
        "Authors and no.of books"
      ],
      "metadata": {
        "id": "syeMMgfOus9T"
      }
    },
    {
      "cell_type": "code",
      "source": [
        "most_books = df.groupby('authors')['title'].count().reset_index().sort_values('title', ascending=False).head(10)\n",
        "\n",
        "plt.figure(figsize=(10, 4))\n",
        "ax = sns.barplot(x='title', y='authors', data=most_books, palette='inferno')\n",
        "ax.set_title(\"Top 10 authors with most books\")\n",
        "ax.set_xlabel(\"Total number of books\")\n",
        "\n",
        "for p in ax.patches:\n",
        "    ax.annotate(f'{p.get_width():.0f}',\n",
        "                (p.get_width() + 0.2, p.get_y() + p.get_height() / 2),\n",
        "                xytext=(5, 0),\n",
        "                textcoords='offset points',\n",
        "                va='center')\n",
        "\n",
        "plt.show()"
      ],
      "metadata": {
        "id": "C-MYzoepts8q"
      },
      "execution_count": null,
      "outputs": []
    },
    {
      "cell_type": "markdown",
      "source": [
        "most rated books"
      ],
      "metadata": {
        "id": "uGIIAV2Cv-nG"
      }
    },
    {
      "cell_type": "code",
      "source": [
        "most_rated = df.set_index('title').sort_values('ratings_count', ascending=False).head(10)\n",
        "plt.figure(figsize=(10, 4))\n",
        "ax = sns.barplot(x='ratings_count', y=most_rated.index, data=most_rated, palette='inferno')\n",
        "for p in ax.patches:\n",
        "    ax.annotate(f'{p.get_width():.0f}',\n",
        "                (p.get_width() + 0.2, p.get_y() + p.get_height() / 2),\n",
        "                xytext=(1, 0),\n",
        "                textcoords='offset points',\n",
        "                va='top')\n",
        "\n",
        "plt.show()"
      ],
      "metadata": {
        "id": "aGPxYO3Suko4"
      },
      "execution_count": null,
      "outputs": []
    },
    {
      "cell_type": "markdown",
      "source": [
        "average rating of all books"
      ],
      "metadata": {
        "id": "jkj8P5Cuy-Ug"
      }
    },
    {
      "cell_type": "code",
      "source": [
        "df.average_rating = df.average_rating.astype(float)\n",
        "fig, ax = plt.subplots(figsize=[10,4])\n",
        "sns.distplot(df['average_rating'],ax=ax)\n",
        "ax.set_title('Average rating for all books',fontsize=20)\n",
        "ax.set_xlabel('Average rating',fontsize=13)"
      ],
      "metadata": {
        "id": "ZFSgpWQPy2kA"
      },
      "execution_count": null,
      "outputs": []
    },
    {
      "cell_type": "code",
      "source": [
        "ax = sns.relplot(data=df, x=\"average_rating\", y=\"ratings_count\", color = 'black', sizes=(100, 200), height=7, marker='*')\n",
        "plt.title(\"Relation between Rating counts and Average Ratings\",fontsize = 15)\n",
        "ax.set_axis_labels(\"Average Rating\", \"Ratings Count\")"
      ],
      "metadata": {
        "id": "TdljZRA4z27g"
      },
      "execution_count": null,
      "outputs": []
    },
    {
      "cell_type": "code",
      "source": [
        "plt.figure(figsize=(15,10))\n",
        "ax = sns.relplot(x=\"average_rating\", y=\"  num_pages\", data = df, color = 'black',sizes=(100, 200), height=7, marker='*')\n",
        "ax.set_axis_labels(\"Average Rating\", \"Number of Pages\")"
      ],
      "metadata": {
        "id": "7NL74P6JSt-x"
      },
      "execution_count": null,
      "outputs": []
    },
    {
      "cell_type": "code",
      "source": [
        "df2 = df.copy()"
      ],
      "metadata": {
        "id": "eHD1Nrc70zPu"
      },
      "execution_count": null,
      "outputs": []
    },
    {
      "cell_type": "code",
      "source": [
        "df2.loc[ (df2['average_rating'] >= 0) & (df2['average_rating'] <= 1), 'rating_between'] = \"between 0 and 1\"\n",
        "df2.loc[ (df2['average_rating'] > 1) & (df2['average_rating'] <= 2), 'rating_between'] = \"between 1 and 2\"\n",
        "df2.loc[ (df2['average_rating'] > 2) & (df2['average_rating'] <= 3), 'rating_between'] = \"between 2 and 3\"\n",
        "df2.loc[ (df2['average_rating'] > 3) & (df2['average_rating'] <= 4), 'rating_between'] = \"between 3 and 4\"\n",
        "df2.loc[ (df2['average_rating'] > 4) & (df2['average_rating'] <= 5), 'rating_between'] = \"between 4 and 5\""
      ],
      "metadata": {
        "id": "B56NTFG401PQ"
      },
      "execution_count": null,
      "outputs": []
    },
    {
      "cell_type": "code",
      "source": [
        "rating_df = pd.get_dummies(df2['rating_between'])\n",
        "language_df = pd.get_dummies(df2['language_code'])"
      ],
      "metadata": {
        "id": "4PeNmKGj1dlv"
      },
      "execution_count": null,
      "outputs": []
    },
    {
      "cell_type": "code",
      "source": [
        "features = pd.concat([rating_df,\n",
        "                      language_df,\n",
        "                      df2['average_rating'],\n",
        "                      df2['ratings_count']], axis=1)"
      ],
      "metadata": {
        "id": "_cFMtBA8164R"
      },
      "execution_count": null,
      "outputs": []
    },
    {
      "cell_type": "code",
      "source": [
        "X = features\n",
        "y = df2['average_rating']"
      ],
      "metadata": {
        "id": "X0mc5ZuUVx2P"
      },
      "execution_count": null,
      "outputs": []
    },
    {
      "cell_type": "code",
      "source": [
        "from sklearn.preprocessing import MinMaxScaler\n",
        "min_max_scaler = MinMaxScaler()\n",
        "features = min_max_scaler.fit_transform(features)"
      ],
      "metadata": {
        "id": "6XiGOcaO2UDM"
      },
      "execution_count": null,
      "outputs": []
    },
    {
      "cell_type": "code",
      "source": [
        "X_train, X_test, y_train, y_test = train_test_split(X, y, test_size=0.2, random_state=42)\n",
        "rf_model = RandomForestRegressor(n_estimators=100, random_state=42)\n",
        "rf_model.fit(X_train, y_train)\n",
        "predictions = rf_model.predict(X_test)"
      ],
      "metadata": {
        "id": "Dr1Uz8FAV0Lw"
      },
      "execution_count": null,
      "outputs": []
    },
    {
      "cell_type": "code",
      "source": [
        "model = neighbors.NearestNeighbors(n_neighbors=10, algorithm='ball_tree')\n",
        "model.fit(features)\n",
        "dist, idlist = model.kneighbors(features)"
      ],
      "metadata": {
        "id": "8s537ay13y71"
      },
      "execution_count": null,
      "outputs": []
    },
    {
      "cell_type": "code",
      "source": [
        "predictions = rf_model.predict(X_test)"
      ],
      "metadata": {
        "id": "z6N8zvoU8wlC"
      },
      "execution_count": null,
      "outputs": []
    },
    {
      "cell_type": "markdown",
      "source": [
        "K-Nearest Neighbourhood"
      ],
      "metadata": {
        "id": "IZ3jIcVOX4Hr"
      }
    },
    {
      "cell_type": "code",
      "source": [
        "def BookRecommender(book_name):\n",
        "    book_list_name = []\n",
        "    book_id = df2[df2['title'] == book_name].index\n",
        "    book_id = book_id[0]\n",
        "    for newid in idlist[book_id]:\n",
        "        book_list_name.append(df2.loc[newid].title)\n",
        "    return book_list_name\n",
        "BookNames = BookRecommender('Notes from a Small Island')\n",
        "BookNames\n",
        "\n"
      ],
      "metadata": {
        "id": "qdjOJO6m3nJO"
      },
      "execution_count": null,
      "outputs": []
    },
    {
      "cell_type": "code",
      "source": [
        "model = neighbors.KNeighborsRegressor(n_neighbors=5)\n",
        "model.fit(X_train, y_train)\n",
        "predictions = model.predict(X_test)\n",
        "mae = mean_absolute_error(y_test, predictions)\n",
        "print(\"Mean Absolute Error:\", mae)"
      ],
      "metadata": {
        "id": "XxOROZkP-6WZ"
      },
      "execution_count": null,
      "outputs": []
    },
    {
      "cell_type": "markdown",
      "source": [
        "Random Forest Regressor\n",
        "\n"
      ],
      "metadata": {
        "id": "PVr2u-ytXZ1p"
      }
    },
    {
      "cell_type": "code",
      "source": [
        "def BookRecommender(book_name):\n",
        "    book_list_name = []\n",
        "    book_id = df2[df2['title'] == book_name].index\n",
        "    book_id = book_id[0]\n",
        "    for newid in idlist[book_id]:\n",
        "        book_list_name.append(df2.loc[newid].title)\n",
        "    return book_list_name, rf_model.predict(features[book_id].reshape(1, -1))\n",
        "book_list, predicted_rating = BookRecommender('Notes from a Small Island')\n",
        "print(\"Recommended books:\", book_list)\n",
        "print(\"Predicted average rating for the queried book:\", predicted_rating)\n",
        "\n"
      ],
      "metadata": {
        "id": "X-k1JIRSYaem"
      },
      "execution_count": null,
      "outputs": []
    },
    {
      "cell_type": "code",
      "source": [
        "mae = mean_absolute_error(y_test, predictions)\n",
        "print(\"Mean Absolute Error:\", mae)"
      ],
      "metadata": {
        "id": "EpW-dMFu_Ja0"
      },
      "execution_count": null,
      "outputs": []
    },
    {
      "cell_type": "markdown",
      "source": [
        "Recommend popular books"
      ],
      "metadata": {
        "id": "tDOSvagLZ8dD"
      }
    },
    {
      "cell_type": "code",
      "source": [
        "def recommend_popular_books(df, top_n=3):\n",
        "    popular_books = df.sort_values(by='ratings_count', ascending=False).head(top_n)\n",
        "    popular_book_titles = popular_books['title'].values.tolist()\n",
        "    return popular_book_titles\n",
        "\n",
        "top_popular_books = recommend_popular_books(df)\n",
        "print(\"Top 3 popular books:\", top_popular_books)\n"
      ],
      "metadata": {
        "id": "XX-5pHH-aECf"
      },
      "execution_count": null,
      "outputs": []
    }
  ]
}